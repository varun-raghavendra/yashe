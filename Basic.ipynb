{
 "cells": [
  {
   "cell_type": "code",
   "execution_count": null,
   "metadata": {},
   "outputs": [],
   "source": [
    "import random\n",
    "import numpy as np\n",
    "\n",
    "phid = [1, 0, 1]\n",
    "\n",
    "def reduce(p):\n",
    "    global phid\n",
    "    p[:] = [x % q for x in p]\n",
    "    # print(p)\n",
    "    Q, R = np.polydiv(p, phid)\n",
    "    return R\n",
    "\n",
    "def recurse(pos, d, q, myPol, polynomials):\n",
    "#     global polynomials\n",
    "    if pos == d+1:\n",
    "        # print(myPol)\n",
    "        newList = [int(x) for x in myPol]\n",
    "        newList = reduce(newList)\n",
    "        polynomials.append(newList)\n",
    "        return\n",
    "    for i in range (0, q):\n",
    "        myPol.append(i)\n",
    "        recurse(pos+1, d, q, myPol, polynomials)\n",
    "        myPol.pop()\n",
    "\n",
    "def genPolynomials(q, d, polynomials):\n",
    "    myPol = []\n",
    "    recurse(0, d, q, myPol, polynomials)\n",
    "    \n",
    "def genProbabilities():\n",
    "    global probabilities\n",
    "    sum = 0\n",
    "    for i in range (-1*B+1, B):\n",
    "        x = exp**(-pi*(i**2)/sigma**2)\n",
    "        probabilities.append(x)\n",
    "        sum += x\n",
    "    probabilities[:] = [x / sum for x in probabilities]\n",
    "    \n",
    "def chikey():\n",
    "    coeff = np.array([random.randint(1,q-1) for i in range((d>>1)+1)])\n",
    "    return coeff\n",
    "    \n",
    "def ParamsGen():\n",
    "    d = 4\n",
    "    polynomials = []\n",
    "    q = 13\n",
    "    t = 7\n",
    "    genPolynomials(q, d/2, polynomials)\n",
    "    return d, polynomials, q, t\n",
    "\n",
    "def inverse(f, polynomials):\n",
    "    for p in polynomials:\n",
    "        f_f_inv = (reduce(np.polymul(p, f))).tolist()\n",
    "        if f_f_inv == [1]:\n",
    "#             print(p)\n",
    "            return p\n",
    "    return [-1]\n",
    "\n",
    "def KeyGen(d, polynomials, q, t):\n",
    "    global phid\n",
    "    f_prime = chikey().tolist()\n",
    "    g = chikey().tolist()\n",
    "    f = []\n",
    "    f = [x*t for x in f_prime]\n",
    "    f[-1] += 1\n",
    "    reduce(f)\n",
    "    \n",
    "    f_inv = []\n",
    "    while True:\n",
    "        f_inv = (inverse(f, polynomials))\n",
    "        if f_inv != [-1]:\n",
    "            break\n",
    "    \n",
    "    h = reduce(np.polymul(g, f_inv))\n",
    "    h_prime = [x*t for x in h]\n",
    "    h = reduce(h_prime)\n",
    "    \n",
    "    return f_prime, g, f_inv, reduce(h.tolist()), reduce(f)\n",
    "# print(len(polynomials))\n",
    "\n",
    "# print(\"Enter polynomial to find inverse\")\n",
    "\n",
    "# def keygen(d, q, t, chikey, chierr):\n",
    "\n",
    "# def encrypt(h, m):\n",
    "\n",
    "# def decrypt(f, c):\n",
    "\n",
    "# for p in polynomials:\n",
    "#     # print(p)\n",
    "#     f_f_inv = (reduce(np.polymul(p, message))).tolist()\n",
    "#     if f_f_inv == [1]:\n",
    "#         print(p)\n",
    "#         break"
   ]
  },
  {
   "cell_type": "code",
   "execution_count": null,
   "metadata": {},
   "outputs": [],
   "source": [
    "d, polynomials, q, t = ParamsGen()\n",
    "print(d, phid, q, t)\n",
    "\n",
    "f_prime, g, f_inv, h, f = KeyGen(d, polynomials, q, t)\n",
    "f = reduce(f)\n",
    "print(f_prime, g, f_inv, h, f)"
   ]
  },
  {
   "cell_type": "code",
   "execution_count": 145,
   "metadata": {},
   "outputs": [],
   "source": [
    "probabilities = []\n",
    "temp = [1, 2, 3]\n",
    "temp[-1] += 1"
   ]
  },
  {
   "cell_type": "code",
   "execution_count": 45,
   "metadata": {},
   "outputs": [
    {
     "data": {
      "text/plain": [
       "[1, 2, 4]"
      ]
     },
     "execution_count": 45,
     "metadata": {},
     "output_type": "execute_result"
    }
   ],
   "source": [
    "temp"
   ]
  },
  {
   "cell_type": "code",
   "execution_count": 57,
   "metadata": {},
   "outputs": [
    {
     "data": {
      "text/plain": [
       "array([5, 7, 9, 6, 4])"
      ]
     },
     "execution_count": 57,
     "metadata": {},
     "output_type": "execute_result"
    }
   ],
   "source": [
    "chikey()"
   ]
  },
  {
   "cell_type": "code",
   "execution_count": 58,
   "metadata": {},
   "outputs": [
    {
     "data": {
      "text/plain": [
       "[1, 5, 8, 1, 10]"
      ]
     },
     "execution_count": 58,
     "metadata": {},
     "output_type": "execute_result"
    }
   ],
   "source": [
    "chikey().tolist()"
   ]
  },
  {
   "cell_type": "code",
   "execution_count": 70,
   "metadata": {},
   "outputs": [
    {
     "data": {
      "text/plain": [
       "array([8., 5.])"
      ]
     },
     "execution_count": 70,
     "metadata": {},
     "output_type": "execute_result"
    }
   ],
   "source": [
    "reduce([-5, 5])"
   ]
  },
  {
   "cell_type": "code",
   "execution_count": 127,
   "metadata": {},
   "outputs": [
    {
     "data": {
      "text/plain": [
       "array([7., 6.])"
      ]
     },
     "execution_count": 127,
     "metadata": {},
     "output_type": "execute_result"
    }
   ],
   "source": [
    "reduce([7, -7])"
   ]
  },
  {
   "cell_type": "code",
   "execution_count": null,
   "metadata": {},
   "outputs": [],
   "source": []
  }
 ],
 "metadata": {
  "kernelspec": {
   "display_name": "Python 3",
   "language": "python",
   "name": "python3"
  },
  "language_info": {
   "codemirror_mode": {
    "name": "ipython",
    "version": 3
   },
   "file_extension": ".py",
   "mimetype": "text/x-python",
   "name": "python",
   "nbconvert_exporter": "python",
   "pygments_lexer": "ipython3",
   "version": "3.6.9"
  }
 },
 "nbformat": 4,
 "nbformat_minor": 4
}
